{
 "cells": [
  {
   "cell_type": "code",
   "execution_count": 1,
   "metadata": {},
   "outputs": [],
   "source": [
    "import numpy as np\n",
    "import pandas as pd\n",
    "from tqdm import tqdm\n",
    "\n",
    "from sklearn.model_selection import train_test_split"
   ]
  },
  {
   "cell_type": "code",
   "execution_count": 2,
   "metadata": {},
   "outputs": [],
   "source": [
    "data = pd.read_csv(\"train.csv\")\n",
    "test = pd.read_csv(\"test.csv\")"
   ]
  },
  {
   "cell_type": "code",
   "execution_count": 3,
   "metadata": {},
   "outputs": [],
   "source": [
    "import torch\n",
    "import torch.nn as nn\n",
    "from torch.utils.data import DataLoader\n",
    "import torch.nn.functional as F\n",
    "\n",
    "class DigitClassifier(nn.Module):\n",
    "    def __init__(self, numChannels, numClasses):\n",
    "        super().__init__()\n",
    "        self.cov1 = nn.Conv2d(in_channels=numChannels, out_channels=20, kernel_size=3)\n",
    "        self.relu1 = nn.ReLU()\n",
    "        self.maxpool1 = nn.MaxPool2d(kernel_size=3, stride=(2, 2))\n",
    "        \n",
    "        self.cov2 = nn.Conv2d(in_channels=20, out_channels=50, kernel_size=(5, 5))\n",
    "        self.relu2 = nn.ReLU()\n",
    "        self.maxpool2 = nn.MaxPool2d(kernel_size=(2, 2), stride=(2, 2))\n",
    "        \n",
    "        self.fc1 = nn.Linear(in_features=800, out_features=500)\n",
    "        self.relu3 = nn.ReLU()\n",
    "        \n",
    "        self.fc2 = nn.Linear(in_features=500, out_features=numClasses)\n",
    "        self.logsoftmax = nn.Softmax(dim=1)\n",
    "        \n",
    "    def forward(self, x):\n",
    "        x = self.cov1(x)\n",
    "        x = self.relu1(x)\n",
    "        x = self.maxpool1(x)\n",
    "        \n",
    "        x = self.cov2(x)\n",
    "        x = self.relu2(x)\n",
    "        x = self.maxpool2(x)\n",
    "        \n",
    "        x = torch.flatten(x, 1)\n",
    "        x = self.fc1(x)\n",
    "        x = self.relu3(x)\n",
    "        \n",
    "        x = self.fc2(x)\n",
    "        output = self.logsoftmax(x)\n",
    "        \n",
    "        return output\n",
    "        "
   ]
  },
  {
   "cell_type": "code",
   "execution_count": 4,
   "metadata": {},
   "outputs": [
    {
     "name": "stdout",
     "output_type": "stream",
     "text": [
      "features shape:  torch.Size([42000, 1, 28, 28])\n"
     ]
    }
   ],
   "source": [
    "train, label = torch.tensor(np.array(data.drop(['label'], axis=1)), dtype=torch.float32).to(\"cuda\"), torch.tensor(np.array(data[\"label\"]), dtype=torch.long).to(\"cuda\")\n",
    "train = train / 255.0\n",
    "train = train.reshape(-1,1,28,28)\n",
    "print(\"features shape: \",train.shape)"
   ]
  },
  {
   "cell_type": "code",
   "execution_count": 5,
   "metadata": {},
   "outputs": [],
   "source": [
    "# x_train, x_valid, y_train, y_valid = train_test_split(train, label, test_size=0.25, shuffle=True)"
   ]
  },
  {
   "cell_type": "code",
   "execution_count": 6,
   "metadata": {},
   "outputs": [],
   "source": [
    "train_dataset = torch.utils.data.TensorDataset(train, label)\n",
    "train_loader = DataLoader(dataset=train_dataset, batch_size=40, shuffle=True)"
   ]
  },
  {
   "cell_type": "code",
   "execution_count": 7,
   "metadata": {},
   "outputs": [],
   "source": [
    "# x1, y1 = get_batch(x_train, y_train, batch_size=8)\n",
    "# x2, y2 = get_batch(x_valid, y_valid, batch_size=8)\n",
    "# print(x1.shape, y1.shape)\n",
    "# print(x2.shape, y2.shape)"
   ]
  },
  {
   "cell_type": "code",
   "execution_count": 16,
   "metadata": {},
   "outputs": [],
   "source": [
    "class AlexNet(nn.Module):\n",
    "    def __init__(self, numChannel, numClass):\n",
    "        super().__init__()\n",
    "        self.conv1 = nn.Conv2d(in_channels=numChannel, out_channels=64, padding='same', kernel_size=3)\n",
    "        self.norm1 = nn.BatchNorm2d(64)\n",
    "        self.conv2 = nn.Conv2d(in_channels=64, out_channels=64, padding='same', kernel_size=3)\n",
    "        self.norm2 = nn.BatchNorm2d(64)\n",
    "        self.conv3 = nn.Conv2d(in_channels=64, out_channels=128, padding='same', kernel_size=3)\n",
    "        self.norm3 = nn.BatchNorm2d(128)\n",
    "        self.conv4 = nn.Conv2d(in_channels=128, out_channels=128, padding='same', kernel_size=3)\n",
    "        self.norm4 = nn.BatchNorm2d(128)\n",
    "        self.conv5 = nn.Conv2d(in_channels=128, out_channels=192, padding='same', kernel_size=3)\n",
    "        self.norm5 = nn.BatchNorm2d(192)\n",
    "        \n",
    "        self.fc1 = nn.Linear(in_features=1728, out_features=1024)\n",
    "        self.fc2 = nn.Linear(in_features=1024, out_features=512)\n",
    "        self.fc3 = nn.Linear(in_features=512, out_features=numClass)\n",
    "        \n",
    "        self.logsoftmax = nn.Softmax(dim=1)\n",
    "        \n",
    "    def forward(self, x):\n",
    "        x = F.relu(self.norm1(self.conv1(x)))\n",
    "        x = F.max_pool2d(x, kernel_size=2)\n",
    "        x = F.relu(self.norm2(self.conv2(x)))\n",
    "        x = F.max_pool2d(x, kernel_size=2)\n",
    "        x = F.relu(self.norm3(self.conv3(x)))\n",
    "        x = F.relu(self.norm4(self.conv4(x)))\n",
    "        x = F.relu(self.norm5(self.conv5(x)))\n",
    "        x = F.max_pool2d(x, kernel_size=2)\n",
    "        \n",
    "        x = torch.flatten(x, 1)\n",
    "        \n",
    "        x = F.relu(self.fc1(x))\n",
    "        x = F.dropout(x, p=0.5)\n",
    "        x = F.relu(self.fc2(x))\n",
    "        x = F.dropout(x, p=0.5)\n",
    "        x = self.fc3(x)\n",
    "        output = self.logsoftmax(x)\n",
    "        \n",
    "        return output\n",
    "\n",
    "class Network(nn.Module):\n",
    "    def __init__(self):\n",
    "        super(Network, self).__init__()\n",
    "        self.conv1 = nn.Conv2d(1, 4, 3)\n",
    "        self.bn1 = nn.BatchNorm2d(4)\n",
    "        self.pool = nn.MaxPool2d(2, 2)\n",
    "        self.conv2 = nn.Conv2d(4, 8, 3)\n",
    "        self.bn2 = nn.BatchNorm2d(8)\n",
    "        self.fc = nn.Linear(8 * 11 * 11, 10)\n",
    "\n",
    "    def forward(self, x):\n",
    "        x = F.relu(self.conv1(x))\n",
    "        x = self.bn1(x)\n",
    "        x = self.pool(x)\n",
    "        x = F.relu(self.conv2(x))\n",
    "        x = self.bn2(x)\n",
    "        x = x.view(x.size(0), -1)\n",
    "        x = self.fc(x)\n",
    "        return x\n",
    "    \n",
    "model=Network().to('cuda')\n",
    "model=AlexNet(1, 10).to('cuda')\n",
    "# model=DigitClassifier(1, 10).to('cuda')\n",
    "input_size=(1,28,28)\n",
    "\n",
    "learning_rate=3e-4\n",
    "num_epochs=15\n",
    "# loss_fn=nn.NLLLoss()\n",
    "loss_fn=nn.CrossEntropyLoss()\n",
    "optimizer=torch.optim.Adam(model.parameters(),lr=learning_rate)"
   ]
  },
  {
   "cell_type": "code",
   "execution_count": 17,
   "metadata": {},
   "outputs": [
    {
     "name": "stderr",
     "output_type": "stream",
     "text": [
      "100%|██████████| 1050/1050 [00:04<00:00, 230.48it/s]\n",
      "100%|██████████| 1050/1050 [00:04<00:00, 231.17it/s]\n",
      "100%|██████████| 1050/1050 [00:04<00:00, 239.51it/s]\n",
      "100%|██████████| 1050/1050 [00:04<00:00, 233.89it/s]\n",
      "100%|██████████| 1050/1050 [00:04<00:00, 241.98it/s]\n",
      "100%|██████████| 1050/1050 [00:04<00:00, 229.52it/s]\n",
      "100%|██████████| 1050/1050 [00:04<00:00, 222.79it/s]\n",
      "100%|██████████| 1050/1050 [00:04<00:00, 228.87it/s]\n",
      "100%|██████████| 1050/1050 [00:04<00:00, 235.86it/s]\n",
      "100%|██████████| 1050/1050 [00:04<00:00, 233.67it/s]\n",
      "100%|██████████| 1050/1050 [00:04<00:00, 236.73it/s]\n",
      "100%|██████████| 1050/1050 [00:04<00:00, 235.93it/s]\n",
      "100%|██████████| 1050/1050 [00:04<00:00, 217.19it/s]\n",
      "100%|██████████| 1050/1050 [00:04<00:00, 229.35it/s]\n",
      "100%|██████████| 1050/1050 [00:04<00:00, 245.89it/s]\n"
     ]
    },
    {
     "name": "stdout",
     "output_type": "stream",
     "text": [
      "Accuracy on training set: 98.85\n"
     ]
    }
   ],
   "source": [
    "for epoch in range(num_epochs):\n",
    "    for batch_idx, (d, targets) in enumerate(tqdm(train_loader)):\n",
    "        # batch, channel, (feature, feature)\n",
    "        d = d.view(-1, 1, 28, 28)\n",
    "\n",
    "        # forward\n",
    "        scores = model(d)\n",
    "        loss = loss_fn(scores, targets)\n",
    "        # print((scores.argmax(1) == targets).sum()/len(targets))\n",
    "        # print(scores.argmax(1))\n",
    "        # print(targets)\n",
    "        # backward\n",
    "        optimizer.zero_grad()\n",
    "        loss.backward()\n",
    "        optimizer.step()\n",
    "        \n",
    "    \n",
    "def check_accuracy(loader, model):\n",
    "    num_correct = 0\n",
    "    num_samples = 0\n",
    "    model.eval()\n",
    "\n",
    "    with torch.no_grad():\n",
    "        for x, y in loader:\n",
    "\n",
    "            scores = model(x)\n",
    "            _, predictions = scores.max(1)\n",
    "            num_correct += (predictions == y).sum()\n",
    "            num_samples += predictions.size(0)\n",
    "\n",
    "    model.train()\n",
    "    return num_correct / num_samples\n",
    "\n",
    "\n",
    "print(f\"Accuracy on training set: {check_accuracy(train_loader, model)*100:.2f}\")"
   ]
  },
  {
   "cell_type": "code",
   "execution_count": 15,
   "metadata": {},
   "outputs": [],
   "source": [
    "features_test = test.values.reshape(-1, 1, 28, 28)\n",
    "\n",
    "test_tensor = torch.tensor(features_test, dtype=torch.float32) / 255.0\n",
    "test_tensor = test_tensor.to('cuda')\n",
    "model.eval()  \n",
    "with torch.no_grad():\n",
    "    test_predictions = model(test_tensor)\n",
    "\n",
    "model.train() \n",
    "\n",
    "predicted_labels = torch.argmax(test_predictions, dim=1).to('cpu').numpy()\n",
    "\n",
    "submission = pd.DataFrame({\"ImageId\": range(1, len(predicted_labels) + 1), \"Label\": predicted_labels})\n",
    "submission.to_csv(\"submission0.csv\", index=False)"
   ]
  }
 ],
 "metadata": {
  "kernelspec": {
   "display_name": "base",
   "language": "python",
   "name": "python3"
  },
  "language_info": {
   "codemirror_mode": {
    "name": "ipython",
    "version": 3
   },
   "file_extension": ".py",
   "mimetype": "text/x-python",
   "name": "python",
   "nbconvert_exporter": "python",
   "pygments_lexer": "ipython3",
   "version": "3.11.5"
  }
 },
 "nbformat": 4,
 "nbformat_minor": 2
}
